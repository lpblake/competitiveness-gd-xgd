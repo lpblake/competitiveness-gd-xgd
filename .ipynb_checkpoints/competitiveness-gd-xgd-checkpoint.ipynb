{
 "cells": [
  {
   "cell_type": "code",
   "execution_count": null,
   "id": "604dd517",
   "metadata": {},
   "outputs": [],
   "source": [
    "! pip install plotly==3.10.0"
   ]
  },
  {
   "cell_type": "code",
   "execution_count": null,
   "id": "b702a220",
   "metadata": {},
   "outputs": [],
   "source": [
    "from plotly.offline import init_notebook_mode, iplot, plot\n",
    "import plotly as py\n",
    "init_notebook_mode(connected=True)\n",
    "import plotly.graph_objs as go"
   ]
  },
  {
   "cell_type": "code",
   "execution_count": null,
   "id": "595e9f8d",
   "metadata": {},
   "outputs": [],
   "source": [
    "import numpy as np \n",
    "import pandas as pd \n",
    "import os\n",
    "import matplotlib.pyplot as plt\n",
    "import ipywidgets as widgets\n",
    "from IPython.display import display\n",
    "from scipy import stats\n",
    "import csv\n",
    "\n",
    "epl_2021_df = pd.read_csv (r'GD2021.csv')\n",
    "epl_1920_df = pd.read_csv (r'GD1920.csv')\n",
    "epl_1819_df = pd.read_csv (r'GD1819.csv')\n",
    "epl_1718_df = pd.read_csv (r'GD1718.csv')\n",
    "epl_1617_df = pd.read_csv (r'GD1617.csv')\n",
    "epl_1516_df = pd.read_csv (r'GD1516.csv')\n",
    "epl_1415_df = pd.read_csv (r'GD1415.csv')\n",
    "epl_1314_df = pd.read_csv (r'GD1314.csv')\n",
    "epl_1213_df = pd.read_csv (r'GD1213.csv')\n",
    "epl_1112_df = pd.read_csv (r'GD1112.csv')\n",
    "\n",
    "var_1 = epl_1112_df.loc[:,\"GD\"].var()\n",
    "var_2 = epl_1213_df.loc[:,\"GD\"].var()\n",
    "var_3 = epl_1314_df.loc[:,\"GD\"].var()\n",
    "var_4 = epl_1415_df.loc[:,\"GD\"].var()\n",
    "var_5 = epl_1516_df.loc[:,\"GD\"].var()\n",
    "var_6 = epl_1617_df.loc[:,\"GD\"].var()\n",
    "var_7 = epl_1718_df.loc[:,\"GD\"].var()\n",
    "var_8 = epl_1819_df.loc[:,\"GD\"].var()\n",
    "var_9 = epl_1920_df.loc[:,\"GD\"].var()\n",
    "var_10 = epl_2021_df.loc[:,\"GD\"].var()\n",
    "\n",
    "laliga_2021_df = pd.read_csv (r'LigaGD2021.csv')\n",
    "laliga_1920_df = pd.read_csv (r'LigaGD1920.csv')\n",
    "laliga_1819_df = pd.read_csv (r'LigaGD1819.csv')\n",
    "laliga_1718_df = pd.read_csv (r'LigaGD1718.csv')\n",
    "laliga_1617_df = pd.read_csv (r'LigaGD1617.csv')\n",
    "laliga_1516_df = pd.read_csv (r'LigaGD1516.csv')\n",
    "laliga_1415_df = pd.read_csv (r'LigaGD1415.csv')\n",
    "laliga_1314_df = pd.read_csv (r'LigaGD1314.csv')\n",
    "laliga_1213_df = pd.read_csv (r'LigaGD1213.csv')\n",
    "laliga_1112_df = pd.read_csv (r'LigaGD1112.csv')\n",
    "\n",
    "la_var_1 = laliga_1112_df.loc[:,\"GD\"].var()\n",
    "la_var_2 = laliga_1213_df.loc[:,\"GD\"].var()\n",
    "la_var_3 = laliga_1314_df.loc[:,\"GD\"].var()\n",
    "la_var_4 = laliga_1415_df.loc[:,\"GD\"].var()\n",
    "la_var_5 = laliga_1516_df.loc[:,\"GD\"].var()\n",
    "la_var_6 = laliga_1617_df.loc[:,\"GD\"].var()\n",
    "la_var_7 = laliga_1718_df.loc[:,\"GD\"].var()\n",
    "la_var_8 = laliga_1819_df.loc[:,\"GD\"].var()\n",
    "la_var_9 = laliga_1920_df.loc[:,\"GD\"].var()\n",
    "la_var_10 = laliga_2021_df.loc[:,\"GD\"].var()\n",
    "\n",
    "\n",
    "laliga = [la_var_1, la_var_2, la_var_3, la_var_4, la_var_5, la_var_6, la_var_7, la_var_8, la_var_9, la_var_10]\n",
    "epl = [var_1, var_2, var_3, var_4, var_5, var_6, var_7, var_8, var_9, var_10]\n",
    "\n",
    "barWidth = 0.2\n",
    "r1 = np.arange(len(epl))\n",
    "r2 = [x + barWidth for x in r1]\n",
    "r3 = [x + barWidth for x in r2]\n",
    "r4 = [x + barWidth for x in r3]\n",
    "r5 = [x + barWidth for x in r4]\n",
    "\n",
    "plt.bar(r1, epl, color='cyan', width=barWidth, edgecolor='white', label='Premier League')\n",
    "plt.bar(r2, laliga, color='magenta', width=barWidth, edgecolor='white', label='La Liga')\n",
    "plt.xlabel('Season')\n",
    "plt.ylabel('GD Variance')\n",
    "plt.title('GD Variance by Season')\n",
    "plt.xticks(np.arange(10), ['2011/12', '2012/13', '2013/14', '2014/15', '2015/16', '2016/17', '2017/18', '2018/19', '2019/20', '2020/21'], rotation=90)\n",
    " \n",
    "plt.legend()\n",
    "plt.show()"
   ]
  },
  {
   "cell_type": "code",
   "execution_count": null,
   "id": "9d85a3b6",
   "metadata": {},
   "outputs": [],
   "source": [
    "\n",
    "fig = px.scatter(laliga_2021_df, x=\"GD\", y=\"Pts\", hover_data=['Squad'])\n",
    "fig.show()"
   ]
  },
  {
   "cell_type": "code",
   "execution_count": null,
   "id": "51635c78",
   "metadata": {},
   "outputs": [],
   "source": []
  }
 ],
 "metadata": {
  "kernelspec": {
   "display_name": "Python 3",
   "language": "python",
   "name": "python3"
  },
  "language_info": {
   "codemirror_mode": {
    "name": "ipython",
    "version": 3
   },
   "file_extension": ".py",
   "mimetype": "text/x-python",
   "name": "python",
   "nbconvert_exporter": "python",
   "pygments_lexer": "ipython3",
   "version": "3.8.8"
  }
 },
 "nbformat": 4,
 "nbformat_minor": 5
}
