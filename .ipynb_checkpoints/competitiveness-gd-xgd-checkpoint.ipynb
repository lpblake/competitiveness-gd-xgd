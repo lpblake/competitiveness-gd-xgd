{
 "cells": [
  {
   "cell_type": "code",
   "execution_count": 8,
   "id": "595e9f8d",
   "metadata": {},
   "outputs": [
    {
     "name": "stderr",
     "output_type": "stream",
     "text": [
      "No handles with labels found to put in legend.\n"
     ]
    },
    {
     "data": {
      "image/png": "[encoded data removed]",
      "text/plain": [
       "<Figure size 432x288 with 1 Axes>"
      ]
     },
     "metadata": {
      "needs_background": "light"
     },
     "output_type": "display_data"
    }
   ],
   "source": [
    "import numpy as np \n",
    "import pandas as pd \n",
    "import os\n",
    "import matplotlib.pyplot as plt\n",
    "import ipywidgets as widgets\n",
    "from IPython.display import display\n",
    "from scipy import stats\n",
    "import csv\n",
    "\n",
    "epl_2021_df = pd.read_csv (r'GD2021.csv')\n",
    "epl_1920_df = pd.read_csv (r'GD1920.csv')\n",
    "epl_1819_df = pd.read_csv (r'GD1819.csv')\n",
    "epl_1718_df = pd.read_csv (r'GD1718.csv')\n",
    "epl_1617_df = pd.read_csv (r'GD1617.csv')\n",
    "epl_1516_df = pd.read_csv (r'GD1516.csv')\n",
    "epl_1415_df = pd.read_csv (r'GD1415.csv')\n",
    "epl_1314_df = pd.read_csv (r'GD1314.csv')\n",
    "epl_1213_df = pd.read_csv (r'GD1213.csv')\n",
    "epl_1112_df = pd.read_csv (r'GD1112.csv')\n",
    "\n",
    "var_1 = epl_1112_df.loc[:,\"GD\"].var()\n",
    "var_2 = epl_1213_df.loc[:,\"GD\"].var()\n",
    "var_3 = epl_1314_df.loc[:,\"GD\"].var()\n",
    "var_4 = epl_1415_df.loc[:,\"GD\"].var()\n",
    "var_5 = epl_1516_df.loc[:,\"GD\"].var()\n",
    "var_6 = epl_1617_df.loc[:,\"GD\"].var()\n",
    "var_7 = epl_1718_df.loc[:,\"GD\"].var()\n",
    "var_8 = epl_1819_df.loc[:,\"GD\"].var()\n",
    "var_9 = epl_1920_df.loc[:,\"GD\"].var()\n",
    "var_10 = epl_2021_df.loc[:,\"GD\"].var()\n",
    "\n",
    "barWidth = 0.5\n",
    "var_seasons = [var_1, var_2, var_3, var_4, var_5, var_6, var_7, var_8, var_9, var_10]\n",
    "\n",
    "r1 = np.arange(len(var_seasons))\n",
    "\n",
    "plt.bar(r1, var_seasons, color='cyan', width=barWidth, edgecolor='white')\n",
    " \n",
    "plt.xlabel('Season')\n",
    "plt.ylabel('GD Variance')\n",
    "plt.title('GD Variance by Season')\n",
    "plt.xticks(np.arange(10), ['2011/12', '2012/13', '2013/14', '2014/15', '2015/16', '2016/17', '2017/18', '2018/19', '2019/20', '2020/21'], rotation=90)\n",
    " \n",
    "plt.legend()\n",
    "plt.show()"
   ]
  },
  {
   "cell_type": "code",
   "execution_count": null,
   "id": "9d85a3b6",
   "metadata": {},
   "outputs": [],
   "source": []
  }
 ],
 "metadata": {
  "kernelspec": {
   "display_name": "Python 3",
   "language": "python",
   "name": "python3"
  },
  "language_info": {
   "codemirror_mode": {
    "name": "ipython",
    "version": 3
   },
   "file_extension": ".py",
   "mimetype": "text/x-python",
   "name": "python",
   "nbconvert_exporter": "python",
   "pygments_lexer": "ipython3",
   "version": "3.8.8"
  }
 },
 "nbformat": 4,
 "nbformat_minor": 5
}
